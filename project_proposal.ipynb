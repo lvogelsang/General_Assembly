{
 "cells": [
  {
   "cell_type": "markdown",
   "id": "e3a1557c-27b3-4cb9-ba17-2c03a7dca259",
   "metadata": {},
   "source": [
    "## Capstone Project Proposal - Lena Vogelsang"
   ]
  },
  {
   "cell_type": "markdown",
   "id": "a5d6d76e-ca28-4ac3-b023-3bf5feda61d7",
   "metadata": {},
   "source": [
    "### Rationale"
   ]
  },
  {
   "cell_type": "markdown",
   "id": "44af64c9-d062-4ead-b0b6-27605c0d5eb4",
   "metadata": {},
   "source": [
    "Alzheimer's disease is the most common form of dementia and involves the progressive loss of memory and mental functioning, which can significantly impact the individual and their close ones. An estimated 400,000 Australians are currently living with some form of Alzheimer's, whereas this number is expected to increase dramatically over the next decades due to the continued ageing of the population. This highlights the importance to further improve diagnostic measures for Alzheimer's disease, firstly, to reliably identify who has already developed the disease, and secondly, to identify people who are at risk of developing the disease."
   ]
  },
  {
   "cell_type": "markdown",
   "id": "a49114b9-bf30-4c9c-aa9d-e5cebbde1b73",
   "metadata": {},
   "source": [
    "### Aims and Hypotheses"
   ]
  },
  {
   "cell_type": "markdown",
   "id": "8a1b6845-1c8b-4625-bec2-a2ccdf9f5830",
   "metadata": {},
   "source": [
    "To address these issues, I aim to test whether we can use magnetic resonance imaging (MRI), a non-invasive brain imaging technique that provides high-contrast images of the brain tissue organisation, to predict, firstly, whether individuals are dement or non-dement, and secondly, whether individuals are at risk of developing Alzheimer's disease or not. "
   ]
  },
  {
   "cell_type": "markdown",
   "id": "433fa141-c3c8-4db6-9daf-9a3078fb42c4",
   "metadata": {},
   "source": [
    "I hypothesize that there will be significant differences between the MRI images of dement vs. non-dement individuals and that we can use those images to reliably diagnose people with Alzheimer's disease. Further, I hypothesize that we can observe differences in brain structure even before someone shows symptoms of dementia, and that we can use those differences to predict later dementia onset – which allows to target those people with preventative measures."
   ]
  },
  {
   "cell_type": "markdown",
   "id": "8c1cfcd5-7e8d-435d-bb73-d589f2ff5f9a",
   "metadata": {},
   "source": [
    "### Dataset"
   ]
  },
  {
   "cell_type": "markdown",
   "id": "49d4d26d-443f-4a46-a876-01e7f6bc7b2d",
   "metadata": {},
   "source": [
    "The identified dataset comprises cross-sectional data of individuals of all ages, with some being diagnosed with Alzheimer's, and longitudinal data of people aged over 60 only, whereas some never received a diagnosis of dementia, some were diagnosed at the initial scan, and some converted from being non-dement to dement throughout the course of the study."
   ]
  },
  {
   "cell_type": "markdown",
   "id": "f3a98c83-c059-4932-801c-9f3bbfc21cf9",
   "metadata": {},
   "source": [
    "### Proposed Analyses"
   ]
  },
  {
   "cell_type": "markdown",
   "id": "63466ecf-5e2d-49a5-8c0d-453462af153c",
   "metadata": {},
   "source": [
    "First, I want to compare the brains of dement and non-dement old (+60) individuals and use machine learning techniques to create a model that can predict whether an individual is suffering from dementia or not based on their MRI scans. I can use both datasets by only considering the older individuals of the cross-sectional dataset or only the reliably identified dement or non-dement individuals in the longitudinal dataset. I plan to apply multiple machine learning techniques to this problem, with the aim to find the most reliable prediction model. Potential machine learning techniques I can apply are linear regression, logistic regression, decision trees, k-nearest neighbour algorithms, or convolutional neural network algorithms (depending on the course content). "
   ]
  },
  {
   "cell_type": "markdown",
   "id": "5b3d5886-65cd-4f55-b4be-edca76ed4566",
   "metadata": {},
   "source": [
    "Second, I want to compare the brains of people of all ages with some being diagnosed with dementia and create a model that can predict both a person's age and dementia severity based on their MRI images. For this purpose, I can use the entire cross-sectional dataset. Again, I plan to apply multiple machine learning techniques to this problem, with the aim to find the most reliable prediction model. "
   ]
  },
  {
   "cell_type": "markdown",
   "id": "7bf24201-a9b5-4d86-895f-6a5052070b10",
   "metadata": {},
   "source": [
    "Lastly, I aim to identify whether there are differences in the brains of people who are non-dement (and who stay non-dement), people who are initially non-dement but develop Alzheimer's a few years later, and those who are diagnosed with Alzheimer's at the initial consult. For this purpose, I can use the MRI scans of the longitudinal dataset. The goal is to create a reliable prediction model that can identify individuals who are at risk of developing Alzheimer's and/or that can predict dementia severity at subsequent timepoints. Currently, I am unsure which machine learning technique is the most suitable to address this problem, but which I hope to resolve over the next few weeks of the course. One further limitation may be the size of the data available to me – only a small proportion of participants have converted from being non-dement to dement during the study, which could impact the result and the accuracy of the prediction model."
   ]
  }
 ],
 "metadata": {
  "kernelspec": {
   "display_name": "Python 3",
   "language": "python",
   "name": "python3"
  },
  "language_info": {
   "codemirror_mode": {
    "name": "ipython",
    "version": 3
   },
   "file_extension": ".py",
   "mimetype": "text/x-python",
   "name": "python",
   "nbconvert_exporter": "python",
   "pygments_lexer": "ipython3",
   "version": "3.8.8"
  }
 },
 "nbformat": 4,
 "nbformat_minor": 5
}
